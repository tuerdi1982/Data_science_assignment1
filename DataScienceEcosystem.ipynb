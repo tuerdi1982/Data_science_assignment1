{
  "metadata": {
    "language_info": {
      "codemirror_mode": {
        "name": "python",
        "version": 3
      },
      "file_extension": ".py",
      "mimetype": "text/x-python",
      "name": "python",
      "nbconvert_exporter": "python",
      "pygments_lexer": "ipython3",
      "version": "3.8"
    },
    "kernelspec": {
      "name": "python",
      "display_name": "Python (Pyodide)",
      "language": "python"
    }
  },
  "nbformat_minor": 4,
  "nbformat": 4,
  "cells": [
    {
      "cell_type": "markdown",
      "source": "# Data Science Tools and Ecosystem",
      "metadata": {}
    },
    {
      "cell_type": "markdown",
      "source": "## Author\nTuerdi Maimaitiyili\n",
      "metadata": {}
    },
    {
      "cell_type": "markdown",
      "source": "Happy learning!",
      "metadata": {}
    },
    {
      "cell_type": "markdown",
      "source": "## Introduction",
      "metadata": {}
    },
    {
      "cell_type": "markdown",
      "source": "In this notebook, Data Science Tools and Ecosystem are summarized.",
      "metadata": {}
    },
    {
      "cell_type": "markdown",
      "source": "**Objectives:**\n\nThe purpose of this file is to engage in hands-on practice with the fundamentals of Jupyter Notebook and to explore some foundational concepts in the field of data science. Covered topics include:\n* Data science languages\n* Data science libraries\n* Data Science Tools\n* Arithmetic expression",
      "metadata": {}
    },
    {
      "cell_type": "markdown",
      "source": "### Data science languages",
      "metadata": {}
    },
    {
      "cell_type": "markdown",
      "source": "Some of the popular languages that Data Scientists use are:\n1. Python\n2. R\n3. Scala\n4. Julia\n5. SQL (Structured Query Language)\n6. Matlab",
      "metadata": {}
    },
    {
      "cell_type": "markdown",
      "source": "### Data science libraries",
      "metadata": {}
    },
    {
      "cell_type": "markdown",
      "source": "Some of the commonly used libraries used by Data Scientists include:\n1. Numpy\n2. pandas\n3. SciPy\n4. Matplotlib\n5. TensorFlow\n6. PyTorch\n7. Keras\n8. NLTK (Natural Language Toolkit)\n",
      "metadata": {}
    },
    {
      "cell_type": "markdown",
      "source": "\n### Data Science Tools\n\n| Data Science Tools | \n| ----------------- |\n| Jupyter Notebooks        | \n| Jupyter lab        | \n| Spyder        | \n| RStudio        | \n\n",
      "metadata": {}
    },
    {
      "cell_type": "markdown",
      "source": "### Arithmetic expression ",
      "metadata": {}
    },
    {
      "cell_type": "markdown",
      "source": "Below are a few examples of evaluating arithmetic expressions in Python.",
      "metadata": {}
    },
    {
      "cell_type": "code",
      "source": "# This a simple arithmetic expression to mutiply then add integers\n(3*4)+5",
      "metadata": {
        "trusted": true
      },
      "execution_count": 2,
      "outputs": [
        {
          "execution_count": 2,
          "output_type": "execute_result",
          "data": {
            "text/plain": "17"
          },
          "metadata": {}
        }
      ]
    },
    {
      "cell_type": "markdown",
      "source": " ### convert minutes to hours",
      "metadata": {}
    },
    {
      "cell_type": "code",
      "source": "# This will convert 200 minutes to hours by diving by 60\n\n# Number of minutes\nminutes = 200\n\n# Convert minutes to hours\nhours = minutes / 60\n\nprint(\"200 minutes is equal to\", hours, \"hours\")\n",
      "metadata": {
        "trusted": true
      },
      "execution_count": 5,
      "outputs": [
        {
          "name": "stdout",
          "text": "200 minutes is equal to 3.3333333333333335 hours\n",
          "output_type": "stream"
        }
      ]
    },
    {
      "cell_type": "code",
      "source": "",
      "metadata": {},
      "execution_count": null,
      "outputs": []
    }
  ]
}